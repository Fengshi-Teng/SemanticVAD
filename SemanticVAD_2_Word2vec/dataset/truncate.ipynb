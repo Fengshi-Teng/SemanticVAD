{
 "cells": [
  {
   "cell_type": "markdown",
   "id": "2bac2c52",
   "metadata": {},
   "source": [
    "#### Util - Truncate"
   ]
  },
  {
   "cell_type": "code",
   "execution_count": 19,
   "id": "1d4de153",
   "metadata": {},
   "outputs": [
    {
     "name": "stdout",
     "output_type": "stream",
     "text": [
      "✅ Truncated CSV saved to test_data_clean_truncated.csv\n"
     ]
    }
   ],
   "source": [
    "import pandas as pd\n",
    "\n",
    "def truncate_label_1(input_csv, output_csv, text_column='text', label_column='labels'):\n",
    "    df = pd.read_csv(input_csv)\n",
    "\n",
    "    def truncate_text(row):\n",
    "        if row[label_column] == 1:\n",
    "            words = row[text_column].split()\n",
    "            return ' '.join(words[:4])\n",
    "        else:\n",
    "            return row[text_column]\n",
    "\n",
    "    df[text_column] = df.apply(truncate_text, axis=1)\n",
    "\n",
    "    df.to_csv(output_csv, index=False)\n",
    "    print(f\"✅ Truncated CSV saved to {output_csv}\")\n",
    "\n",
    "truncate_label_1('test_data_clean.csv', 'test_data_clean_truncated.csv')"
   ]
  },
  {
   "cell_type": "markdown",
   "id": "4054c2a3",
   "metadata": {},
   "source": [
    "#### Util - Shuffle"
   ]
  },
  {
   "cell_type": "code",
   "execution_count": 5,
   "id": "bc15554e",
   "metadata": {},
   "outputs": [
    {
     "name": "stdout",
     "output_type": "stream",
     "text": [
      "Shuffled CSV saved to training_dataset_binary_shuffled.csv\n"
     ]
    }
   ],
   "source": [
    "import pandas as pd\n",
    "\n",
    "# 输入和输出文件路径\n",
    "input_path = \"training_dataset_binary_truncated.csv\"\n",
    "output_path = \"training_dataset_binary_shuffled.csv\"\n",
    "\n",
    "# 读取 CSV\n",
    "df = pd.read_csv(input_path)\n",
    "\n",
    "# 打乱行顺序\n",
    "df_shuffled = df.sample(frac=1).reset_index(drop=True)\n",
    "\n",
    "# 保存为新的 CSV\n",
    "df_shuffled.to_csv(output_path, index=False)\n",
    "\n",
    "print(f\"Shuffled CSV saved to {output_path}\")"
   ]
  },
  {
   "cell_type": "markdown",
   "id": "418ffeb3",
   "metadata": {},
   "source": [
    "#### Util - Reverse"
   ]
  },
  {
   "cell_type": "code",
   "execution_count": null,
   "id": "98201b4c",
   "metadata": {},
   "outputs": [],
   "source": [
    "import pandas as pd\n",
    "\n",
    "file = \"collected_dataset.csv\"\n",
    "\n",
    "df = pd.read_csv(file) \n",
    "\n",
    "# Reverse 1/0\n",
    "if \"labels\" in df.columns:\n",
    "    df[\"labels\"] = df[\"labels\"].apply(lambda x: 1 - x)\n",
    "elif \"label\" in df.columns:\n",
    "    df[\"label\"] = df[\"label\"].apply(lambda x: 1 - x)\n",
    "else:\n",
    "    raise ValueError(\"No label column found!\")\n",
    "\n",
    "df.to_csv(file, index=False)"
   ]
  },
  {
   "cell_type": "markdown",
   "id": "a75bd922",
   "metadata": {},
   "source": [
    "#### Util - Clean"
   ]
  },
  {
   "cell_type": "code",
   "execution_count": 18,
   "id": "2e564e2f",
   "metadata": {},
   "outputs": [],
   "source": [
    "import pandas as pd\n",
    "\n",
    "file = \"test_data.csv\"\n",
    "file_out = \"test_data_clean.csv\"\n",
    "\n",
    "df = pd.read_csv(file)\n",
    "df['text'] = df['text'].str.replace(r'\\[.*?\\]', '', regex=True).str.strip()\n",
    "df.to_csv(file_out, index=False)"
   ]
  }
 ],
 "metadata": {
  "kernelspec": {
   "display_name": "speechbrain-env",
   "language": "python",
   "name": "python3"
  },
  "language_info": {
   "codemirror_mode": {
    "name": "ipython",
    "version": 3
   },
   "file_extension": ".py",
   "mimetype": "text/x-python",
   "name": "python",
   "nbconvert_exporter": "python",
   "pygments_lexer": "ipython3",
   "version": "3.10.16"
  }
 },
 "nbformat": 4,
 "nbformat_minor": 5
}
