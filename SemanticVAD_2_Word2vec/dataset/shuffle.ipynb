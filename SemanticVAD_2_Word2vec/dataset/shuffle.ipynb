{
 "cells": [
  {
   "cell_type": "code",
   "execution_count": 3,
   "id": "928dd22c",
   "metadata": {},
   "outputs": [
    {
     "name": "stdout",
     "output_type": "stream",
     "text": [
      "✅ Successfully shuffled and took the first 5000 rows, saved to test_code_shuffle_5000.csv\n"
     ]
    }
   ],
   "source": [
    "import pandas as pd\n",
    "import random\n",
    "\n",
    "num_samples = 5000\n",
    "\n",
    "# Configuration: path to your original CSV file\n",
    "input_csv = 'test_code.csv'\n",
    "# Configuration: path to save the shuffled and sampled CSV file\n",
    "output_csv = f'test_code_shuffle_{num_samples}.csv'\n",
    "\n",
    "\n",
    "# Read the CSV file into a DataFrame\n",
    "df = pd.read_csv(input_csv)\n",
    "\n",
    "# Shuffle the DataFrame\n",
    "df_shuffled = df.sample(frac=1, random_state=random.randint(0, 10000)).reset_index(drop=True)\n",
    "\n",
    "# Take the first num_samples rows\n",
    "df_sampled = df_shuffled.head(num_samples)\n",
    "\n",
    "# Save the result to a new CSV file\n",
    "df_sampled.to_csv(output_csv, index=False)\n",
    "\n",
    "print(f\"✅ Successfully shuffled and took the first {num_samples} rows, saved to {output_csv}\")"
   ]
  }
 ],
 "metadata": {
  "kernelspec": {
   "display_name": "speechbrain-env",
   "language": "python",
   "name": "python3"
  },
  "language_info": {
   "codemirror_mode": {
    "name": "ipython",
    "version": 3
   },
   "file_extension": ".py",
   "mimetype": "text/x-python",
   "name": "python",
   "nbconvert_exporter": "python",
   "pygments_lexer": "ipython3",
   "version": "3.10.16"
  }
 },
 "nbformat": 4,
 "nbformat_minor": 5
}
