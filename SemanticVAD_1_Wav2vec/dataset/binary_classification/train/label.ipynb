{
 "cells": [
  {
   "cell_type": "code",
   "execution_count": 2,
   "id": "2b148d7d",
   "metadata": {},
   "outputs": [
    {
     "name": "stdout",
     "output_type": "stream",
     "text": [
      "✅ Created inputs.csv with 2000 input records!\n"
     ]
    }
   ],
   "source": [
    "import os\n",
    "import csv\n",
    "import random\n",
    "\n",
    "\n",
    "data_size = 1000\n",
    "\n",
    "# root dir\n",
    "root_dir = './'  \n",
    "\n",
    "# output csv file name\n",
    "csv_file = 'inputs.csv'\n",
    "\n",
    "# data to write\n",
    "data = []\n",
    "\n",
    "# traverse each data label file\n",
    "for label in range(2):  # 0,1\n",
    "    folder_name = f'label{label}'\n",
    "    folder_path = os.path.join(root_dir, folder_name)\n",
    "    \n",
    "    if not os.path.exists(folder_path):\n",
    "        continue\n",
    "    \n",
    "    files = [f for f in os.listdir(folder_path) if not f.startswith('.')]\n",
    "    files = files[:data_size]\n",
    "    # traverse every file\n",
    "    for file_name in files:\n",
    "        if file_name.startswith('.'):\n",
    "            continue\n",
    "        filepath = os.path.join(f\"dataset/binary_classification/train/{folder_name}\", file_name)\n",
    "        data.append([filepath, label])\n",
    "\n",
    "# shuffle inputs\n",
    "random.shuffle(data)\n",
    "\n",
    "# write into csv\n",
    "with open(csv_file, 'w', newline='', encoding='utf-8') as f:\n",
    "    writer = csv.writer(f)\n",
    "    writer.writerow(['filepath', 'labels'])\n",
    "    writer.writerows(data)\n",
    "\n",
    "print(f\"✅ Created {csv_file} with {len(data)} input records!\")"
   ]
  },
  {
   "cell_type": "code",
   "execution_count": null,
   "id": "453414a3",
   "metadata": {},
   "outputs": [],
   "source": []
  }
 ],
 "metadata": {
  "kernelspec": {
   "display_name": "speechbrain-env",
   "language": "python",
   "name": "python3"
  },
  "language_info": {
   "codemirror_mode": {
    "name": "ipython",
    "version": 3
   },
   "file_extension": ".py",
   "mimetype": "text/x-python",
   "name": "python",
   "nbconvert_exporter": "python",
   "pygments_lexer": "ipython3",
   "version": "3.10.16"
  }
 },
 "nbformat": 4,
 "nbformat_minor": 5
}
