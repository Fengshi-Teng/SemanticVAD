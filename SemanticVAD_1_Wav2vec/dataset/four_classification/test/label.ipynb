{
 "cells": [
  {
   "cell_type": "code",
   "execution_count": 1,
   "id": "2b148d7d",
   "metadata": {},
   "outputs": [
    {
     "name": "stdout",
     "output_type": "stream",
     "text": [
      "✅ 已生成 test.csv，共 400 条记录！\n"
     ]
    }
   ],
   "source": [
    "import os\n",
    "import csv\n",
    "import random\n",
    "\n",
    "# 根目录路径（这里换成你的实际路径）\n",
    "root_dir = './'  \n",
    "\n",
    "# 输出CSV文件名\n",
    "csv_file = 'test.csv'\n",
    "\n",
    "# 准备写入的数据\n",
    "data = []\n",
    "\n",
    "# 遍历每个label文件夹\n",
    "for label in range(4):  # 0,1,2,3\n",
    "    folder_name = f'label{label}'\n",
    "    folder_path = os.path.join(root_dir, folder_name)\n",
    "    \n",
    "    if not os.path.exists(folder_path):\n",
    "        continue  # 如果这个文件夹不存在，就跳过\n",
    "\n",
    "    # 遍历文件夹里的所有文件\n",
    "    for file_name in os.listdir(folder_path):\n",
    "        if file_name.startswith('.'):\n",
    "            continue  # 跳过隐藏文件\n",
    "        filepath = os.path.join(folder_name, file_name)  # 注意是相对路径\n",
    "        data.append([filepath, label])\n",
    "\n",
    "# 打乱顺序\n",
    "random.shuffle(data)\n",
    "\n",
    "# 写入CSV\n",
    "with open(csv_file, 'w', newline='', encoding='utf-8') as f:\n",
    "    writer = csv.writer(f)\n",
    "    writer.writerow(['filepath', 'labels'])  # 写表头\n",
    "    writer.writerows(data)\n",
    "\n",
    "print(f\"✅ 已生成 {csv_file}，共 {len(data)} 条记录！\")"
   ]
  },
  {
   "cell_type": "code",
   "execution_count": null,
   "id": "453414a3",
   "metadata": {},
   "outputs": [],
   "source": []
  }
 ],
 "metadata": {
  "kernelspec": {
   "display_name": "speechbrain-env",
   "language": "python",
   "name": "python3"
  },
  "language_info": {
   "codemirror_mode": {
    "name": "ipython",
    "version": 3
   },
   "file_extension": ".py",
   "mimetype": "text/x-python",
   "name": "python",
   "nbconvert_exporter": "python",
   "pygments_lexer": "ipython3",
   "version": "3.10.16"
  }
 },
 "nbformat": 4,
 "nbformat_minor": 5
}
