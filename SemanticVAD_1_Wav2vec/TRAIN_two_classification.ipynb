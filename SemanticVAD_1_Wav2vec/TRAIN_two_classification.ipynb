{
 "cells": [
  {
   "cell_type": "code",
   "execution_count": 35,
   "id": "70d4674f",
   "metadata": {},
   "outputs": [],
   "source": [
    "import os\n",
    "import torch\n",
    "import torch.nn as nn\n",
    "import evaluate\n",
    "import numpy as np\n",
    "from datasets import load_dataset, Audio\n",
    "from transformers import (\n",
    "    AutoFeatureExtractor,\n",
    "    AutoModel,\n",
    "    TrainingArguments,\n",
    "    Trainer,\n",
    "    set_seed\n",
    ")"
   ]
  },
  {
   "cell_type": "code",
   "execution_count": 36,
   "id": "bb5b6549",
   "metadata": {},
   "outputs": [
    {
     "name": "stdout",
     "output_type": "stream",
     "text": [
      "mps\n"
     ]
    }
   ],
   "source": [
    "# Configuration\n",
    "MODEL_NAME = \"ntu-spml/distilhubert\"\n",
    "SAMPLE_RATE = 16000\n",
    "NUM_LABELS = 2\n",
    "LABEL2ID = {\"NO_INTERRUPT\": 0, \"INTERRUPT\": 1}\n",
    "ID2LABEL = {v: k for k, v in LABEL2ID.items()}\n",
    "\n",
    "OUTPUT_MODEL = \"./SemanticVAD(128*2_2000)\"\n",
    "# Random Seeds\n",
    "set_seed(2025)\n",
    "device = torch.device(\"mps\" if torch.backends.mps.is_available() else \"cuda\" if torch.cuda.is_available() else \"cpu\")\n",
    "print(device)"
   ]
  },
  {
   "cell_type": "markdown",
   "id": "ae4c68d9",
   "metadata": {},
   "source": [
    "Load Data"
   ]
  },
  {
   "cell_type": "code",
   "execution_count": 37,
   "id": "acff0b65",
   "metadata": {},
   "outputs": [
    {
     "data": {
      "application/vnd.jupyter.widget-view+json": {
       "model_id": "2ebdf3395154487584e3de11c9146f23",
       "version_major": 2,
       "version_minor": 0
      },
      "text/plain": [
       "Generating train split: 0 examples [00:00, ? examples/s]"
      ]
     },
     "metadata": {},
     "output_type": "display_data"
    }
   ],
   "source": [
    "# Load data\n",
    "dataset = load_dataset(\"csv\", data_files=\"dataset/binary_classification/train/inputs.csv\")\n",
    "# dataset = load_dataset(\"csv\", data_files=\"./data/training_dataset.csv\")\n",
    "dataset = dataset.cast_column(\"filepath\", Audio(sampling_rate=SAMPLE_RATE))\n",
    "dataset[\"train\"] = dataset[\"train\"].shuffle(seed=2025)\n",
    "dataset = dataset[\"train\"].train_test_split(test_size=0.2, seed=2025)"
   ]
  },
  {
   "cell_type": "code",
   "execution_count": 38,
   "id": "f707d854",
   "metadata": {},
   "outputs": [
    {
     "name": "stdout",
     "output_type": "stream",
     "text": [
      "Sample 0 - Length: 8000\n",
      "First few values: [-0.00930786 -0.00939941 -0.00906372 ...  0.          0.\n",
      "  0.        ]\n",
      "Sampel 0 label: 0\n",
      "----------------------------------------\n",
      "Sample 1 - Length: 8000\n",
      "First few values: [0.01208496 0.01599121 0.02020264 ... 0.00598145 0.00585938 0.00549316]\n",
      "Sampel 1 label: 1\n",
      "----------------------------------------\n",
      "Sample 2 - Length: 8000\n",
      "First few values: [ 0.01086426  0.0140686   0.0098877  ... -0.02706909 -0.02087402\n",
      " -0.01763916]\n",
      "Sampel 2 label: 1\n",
      "----------------------------------------\n",
      "Sample 3 - Length: 8000\n",
      "First few values: [-0.0682373  -0.09295654 -0.0838623  ...  0.          0.\n",
      "  0.        ]\n",
      "Sampel 3 label: 0\n",
      "----------------------------------------\n",
      "Sample 4 - Length: 8000\n",
      "First few values: [-0.03540039 -0.03601074 -0.02313232 ...  0.          0.\n",
      "  0.        ]\n",
      "Sampel 4 label: 0\n",
      "----------------------------------------\n"
     ]
    }
   ],
   "source": [
    "import pandas as pd\n",
    "\n",
    "for i in range(5):\n",
    "    filepath = dataset[\"train\"][i][\"filepath\"]\n",
    "    array = filepath[\"array\"]\n",
    "    label = dataset[\"train\"][i][\"labels\"]\n",
    "    print(f\"Sample {i} - Length: {len(array)}\")\n",
    "    print(f\"First few values: {array[-20000:]}\")\n",
    "    print(f\"Sampel {i} label: {label}\")\n",
    "    print(\"-\" * 40)"
   ]
  },
  {
   "cell_type": "markdown",
   "id": "5c229d4c",
   "metadata": {},
   "source": [
    "Load Prechained Model"
   ]
  },
  {
   "cell_type": "code",
   "execution_count": 39,
   "id": "06fc27c1",
   "metadata": {},
   "outputs": [],
   "source": [
    "feature_extractor = AutoFeatureExtractor.from_pretrained(MODEL_NAME)\n",
    "base_model = AutoModel.from_pretrained(MODEL_NAME).to(device)"
   ]
  },
  {
   "cell_type": "markdown",
   "id": "cdf3b846",
   "metadata": {},
   "source": [
    "Construct Classifier"
   ]
  },
  {
   "cell_type": "code",
   "execution_count": null,
   "id": "5ee86965",
   "metadata": {},
   "outputs": [],
   "source": [
    "from transformers.modeling_outputs import SequenceClassifierOutput\n",
    "\n",
    "class DistilHuBERTClassifier(nn.Module):\n",
    "    def __init__(self, base_model, num_labels):\n",
    "        super().__init__()\n",
    "        self.encoder = base_model\n",
    "        self.classifier = nn.Sequential(\n",
    "            nn.Linear(base_model.config.hidden_size, 128),\n",
    "            nn.ReLU(),\n",
    "            nn.Dropout(0.2),\n",
    "            nn.Linear(128, num_labels)\n",
    "        )\n",
    "\n",
    "    def forward(self, input_values, attention_mask=None, labels=None):\n",
    "        outputs = self.encoder(input_values=input_values, attention_mask=attention_mask)\n",
    "        pooled = outputs.last_hidden_state.mean(dim=1)\n",
    "        logits = self.classifier(pooled)\n",
    "        loss = None\n",
    "        if labels is not None:\n",
    "            loss = nn.CrossEntropyLoss()(logits, labels)\n",
    "        return SequenceClassifierOutput(\n",
    "            loss=loss,\n",
    "            logits=logits\n",
    "        )"
   ]
  },
  {
   "cell_type": "code",
   "execution_count": 41,
   "id": "bdc492a5",
   "metadata": {},
   "outputs": [],
   "source": [
    "# Initialize model\n",
    "model = DistilHuBERTClassifier(base_model, num_labels=NUM_LABELS).to(device)"
   ]
  },
  {
   "cell_type": "code",
   "execution_count": 42,
   "id": "ce70d5e4",
   "metadata": {},
   "outputs": [
    {
     "data": {
      "application/vnd.jupyter.widget-view+json": {
       "model_id": "d842f92d3756429bb3bd0b89e339ed7f",
       "version_major": 2,
       "version_minor": 0
      },
      "text/plain": [
       "Map:   0%|          | 0/800 [00:00<?, ? examples/s]"
      ]
     },
     "metadata": {},
     "output_type": "display_data"
    },
    {
     "data": {
      "application/vnd.jupyter.widget-view+json": {
       "model_id": "7035b86727cf4fdf9ee5e3f3d47682a1",
       "version_major": 2,
       "version_minor": 0
      },
      "text/plain": [
       "Map:   0%|          | 0/200 [00:00<?, ? examples/s]"
      ]
     },
     "metadata": {},
     "output_type": "display_data"
    }
   ],
   "source": [
    "# preprocess data\n",
    "def preprocess(example):\n",
    "    audio_array = example[\"filepath\"]\n",
    "\n",
    "    inputs = feature_extractor(\n",
    "        audio_array[\"array\"],\n",
    "        sampling_rate=SAMPLE_RATE,\n",
    "        padding=\"max_length\",\n",
    "        max_length=8000,\n",
    "        truncation=True,\n",
    "        return_tensors=\"np\"\n",
    "    )\n",
    "    input_values = inputs[\"input_values\"][0]\n",
    "\n",
    "    return {\n",
    "        \"input_values\": input_values\n",
    "    }\n",
    "\n",
    "encoded_dataset = dataset.map(preprocess)\n",
    "encoded_dataset = encoded_dataset.shuffle(seed=2025) "
   ]
  },
  {
   "cell_type": "code",
   "execution_count": 43,
   "id": "008c5c3a",
   "metadata": {},
   "outputs": [
    {
     "name": "stdout",
     "output_type": "stream",
     "text": [
      "Dataset({\n",
      "    features: ['filepath', 'labels', 'input_values'],\n",
      "    num_rows: 800\n",
      "})\n"
     ]
    }
   ],
   "source": [
    "print(encoded_dataset[\"train\"])"
   ]
  },
  {
   "cell_type": "code",
   "execution_count": 44,
   "id": "ae422589",
   "metadata": {},
   "outputs": [],
   "source": [
    "# set evaluation function\n",
    "accuracy = evaluate.load(\"accuracy\")\n",
    "f1 = evaluate.load(\"f1\")\n",
    "\n",
    "def compute_metrics(eval_pred):\n",
    "    logits, labels = eval_pred\n",
    "    preds = np.argmax(logits, axis=1)\n",
    "    return {\n",
    "        \"accuracy\": accuracy.compute(predictions=preds, references=labels)[\"accuracy\"],\n",
    "        \"f1\": f1.compute(predictions=preds, references=labels, average=\"weighted\")[\"f1\"],\n",
    "    }"
   ]
  },
  {
   "cell_type": "code",
   "execution_count": 45,
   "id": "3f59e1a9",
   "metadata": {},
   "outputs": [],
   "source": [
    "# set training arguments\n",
    "training_args = TrainingArguments(\n",
    "    num_train_epochs=5,\n",
    "    eval_strategy=\"epoch\",\n",
    "    output_dir=\"./checkpoints\",\n",
    "    save_strategy=\"epoch\",\n",
    "    per_device_train_batch_size=4,\n",
    "    per_device_eval_batch_size=4,\n",
    "    logging_dir=\"./logs\",\n",
    "    logging_steps=20,\n",
    "    load_best_model_at_end=True,\n",
    "    metric_for_best_model=\"f1\",\n",
    "    greater_is_better=True,\n",
    "    save_total_limit=2,\n",
    "    report_to=\"none\",\n",
    ")"
   ]
  },
  {
   "cell_type": "code",
   "execution_count": 46,
   "id": "64f6b47e",
   "metadata": {},
   "outputs": [],
   "source": [
    "# construct trainer\n",
    "class CustomTrainer(Trainer):\n",
    "    def compute_loss(self, model, inputs, return_outputs=False, num_items_in_batch=None):\n",
    "        labels = inputs.pop(\"labels\")\n",
    "        inputs = {k: v.to(model.encoder.device) for k, v in inputs.items()}\n",
    "        labels = labels.to(model.encoder.device)\n",
    "        outputs = model(**inputs, labels=labels)\n",
    "        loss = outputs[\"loss\"]\n",
    "        return (loss, outputs) if return_outputs else loss"
   ]
  },
  {
   "cell_type": "code",
   "execution_count": 47,
   "id": "e5162c7f",
   "metadata": {},
   "outputs": [],
   "source": [
    "from transformers import DataCollatorWithPadding\n",
    "data_collator = DataCollatorWithPadding(feature_extractor)"
   ]
  },
  {
   "cell_type": "markdown",
   "id": "3a7f8e1f",
   "metadata": {},
   "source": [
    "Creat Trainer and Fintune"
   ]
  },
  {
   "cell_type": "code",
   "execution_count": 48,
   "id": "e456e2cd",
   "metadata": {},
   "outputs": [
    {
     "name": "stdout",
     "output_type": "stream",
     "text": [
      "{'labels': tensor(1), 'input_values': tensor([-0.0282, -0.0621, -0.1190,  ..., -0.0063, -0.0050, -0.0031])}\n",
      "<class 'torch.Tensor'>\n",
      "<class 'torch.Tensor'>\n"
     ]
    }
   ],
   "source": [
    "encoded_dataset[\"train\"].set_format(type=\"torch\", columns=[\"input_values\", \"labels\"])\n",
    "encoded_dataset[\"test\"].set_format(type=\"torch\", columns=[\"input_values\", \"labels\"])\n",
    "\n",
    "sample = encoded_dataset[\"train\"][0]\n",
    "print(sample)\n",
    "print(type(encoded_dataset[\"train\"][\"input_values\"]))\n",
    "print(type(encoded_dataset[\"train\"][\"labels\"]))"
   ]
  },
  {
   "cell_type": "code",
   "execution_count": 49,
   "id": "9bcb50f9",
   "metadata": {},
   "outputs": [],
   "source": [
    "# training\n",
    "trainer = CustomTrainer(\n",
    "    model=model,\n",
    "    args=training_args,\n",
    "    train_dataset=encoded_dataset[\"train\"],\n",
    "    eval_dataset=encoded_dataset[\"test\"],\n",
    "    compute_metrics=compute_metrics,\n",
    "    data_collator=data_collator,\n",
    ")"
   ]
  },
  {
   "cell_type": "code",
   "execution_count": 50,
   "id": "5f989433",
   "metadata": {},
   "outputs": [
    {
     "name": "stderr",
     "output_type": "stream",
     "text": [
      "/Users/francisteng/anaconda3/envs/speechbrain-env/lib/python3.10/site-packages/torch/utils/data/dataloader.py:683: UserWarning: 'pin_memory' argument is set as true but not supported on MPS now, then device pinned memory won't be used.\n",
      "  warnings.warn(warn_msg)\n"
     ]
    },
    {
     "data": {
      "text/html": [
       "\n",
       "    <div>\n",
       "      \n",
       "      <progress value='1000' max='1000' style='width:300px; height:20px; vertical-align: middle;'></progress>\n",
       "      [1000/1000 00:30, Epoch 5/5]\n",
       "    </div>\n",
       "    <table border=\"1\" class=\"dataframe\">\n",
       "  <thead>\n",
       " <tr style=\"text-align: left;\">\n",
       "      <th>Epoch</th>\n",
       "      <th>Training Loss</th>\n",
       "      <th>Validation Loss</th>\n",
       "      <th>Accuracy</th>\n",
       "      <th>F1</th>\n",
       "    </tr>\n",
       "  </thead>\n",
       "  <tbody>\n",
       "    <tr>\n",
       "      <td>1</td>\n",
       "      <td>0.098200</td>\n",
       "      <td>0.224601</td>\n",
       "      <td>0.945000</td>\n",
       "      <td>0.945067</td>\n",
       "    </tr>\n",
       "    <tr>\n",
       "      <td>2</td>\n",
       "      <td>0.142900</td>\n",
       "      <td>0.197416</td>\n",
       "      <td>0.950000</td>\n",
       "      <td>0.950060</td>\n",
       "    </tr>\n",
       "    <tr>\n",
       "      <td>3</td>\n",
       "      <td>0.113200</td>\n",
       "      <td>0.177496</td>\n",
       "      <td>0.955000</td>\n",
       "      <td>0.954892</td>\n",
       "    </tr>\n",
       "    <tr>\n",
       "      <td>4</td>\n",
       "      <td>0.011400</td>\n",
       "      <td>0.204969</td>\n",
       "      <td>0.960000</td>\n",
       "      <td>0.959879</td>\n",
       "    </tr>\n",
       "    <tr>\n",
       "      <td>5</td>\n",
       "      <td>0.021900</td>\n",
       "      <td>0.183908</td>\n",
       "      <td>0.960000</td>\n",
       "      <td>0.959927</td>\n",
       "    </tr>\n",
       "  </tbody>\n",
       "</table><p>"
      ],
      "text/plain": [
       "<IPython.core.display.HTML object>"
      ]
     },
     "metadata": {},
     "output_type": "display_data"
    },
    {
     "name": "stderr",
     "output_type": "stream",
     "text": [
      "/Users/francisteng/anaconda3/envs/speechbrain-env/lib/python3.10/site-packages/torch/utils/data/dataloader.py:683: UserWarning: 'pin_memory' argument is set as true but not supported on MPS now, then device pinned memory won't be used.\n",
      "  warnings.warn(warn_msg)\n",
      "/Users/francisteng/anaconda3/envs/speechbrain-env/lib/python3.10/site-packages/torch/utils/data/dataloader.py:683: UserWarning: 'pin_memory' argument is set as true but not supported on MPS now, then device pinned memory won't be used.\n",
      "  warnings.warn(warn_msg)\n",
      "/Users/francisteng/anaconda3/envs/speechbrain-env/lib/python3.10/site-packages/torch/utils/data/dataloader.py:683: UserWarning: 'pin_memory' argument is set as true but not supported on MPS now, then device pinned memory won't be used.\n",
      "  warnings.warn(warn_msg)\n",
      "/Users/francisteng/anaconda3/envs/speechbrain-env/lib/python3.10/site-packages/torch/utils/data/dataloader.py:683: UserWarning: 'pin_memory' argument is set as true but not supported on MPS now, then device pinned memory won't be used.\n",
      "  warnings.warn(warn_msg)\n"
     ]
    },
    {
     "data": {
      "text/plain": [
       "TrainOutput(global_step=1000, training_loss=0.1078292000060901, metrics={'train_runtime': 30.3626, 'train_samples_per_second': 131.741, 'train_steps_per_second': 32.935, 'total_flos': 0.0, 'train_loss': 0.1078292000060901, 'epoch': 5.0})"
      ]
     },
     "execution_count": 50,
     "metadata": {},
     "output_type": "execute_result"
    }
   ],
   "source": [
    "trainer.train()"
   ]
  },
  {
   "cell_type": "code",
   "execution_count": 51,
   "id": "b5d79a4c",
   "metadata": {},
   "outputs": [
    {
     "name": "stdout",
     "output_type": "stream",
     "text": [
      "Model saved: ./SemanticVAD(32*2_2000)1746150418.pt.\n"
     ]
    }
   ],
   "source": [
    "import time\n",
    "new_model = OUTPUT_MODEL+str(int(time.time()))+\".pt\"\n",
    "torch.save(model.state_dict(),new_model)\n",
    "print(f\"Model saved: {new_model}.\")\n"
   ]
  }
 ],
 "metadata": {
  "kernelspec": {
   "display_name": "speechbrain-env",
   "language": "python",
   "name": "python3"
  },
  "language_info": {
   "codemirror_mode": {
    "name": "ipython",
    "version": 3
   },
   "file_extension": ".py",
   "mimetype": "text/x-python",
   "name": "python",
   "nbconvert_exporter": "python",
   "pygments_lexer": "ipython3",
   "version": "3.10.16"
  }
 },
 "nbformat": 4,
 "nbformat_minor": 5
}
